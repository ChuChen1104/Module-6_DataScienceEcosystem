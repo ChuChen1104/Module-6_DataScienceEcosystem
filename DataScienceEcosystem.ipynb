{
 "cells": [
  {
   "cell_type": "markdown",
   "id": "dd7e604f-e444-4d75-8554-64fddd4a40a7",
   "metadata": {},
   "source": [
    "# Data Science Tools and Ecosystem"
   ]
  },
  {
   "cell_type": "markdown",
   "id": "e1c26c1e-e5c7-4cbe-9365-a859e693e582",
   "metadata": {},
   "source": [
    "## In this notebook, Data Science Tools and Ecosystem are summarized."
   ]
  },
  {
   "cell_type": "markdown",
   "id": "bfdf948a-4d88-4335-aef2-e3a0ee27edae",
   "metadata": {},
   "source": [
    "### **Objectives**:\n",
    "- List popular languages for Data Science\n",
    "- Create markdown cells\n",
    "- Add comments to code cell\n",
    "- List of well known Data Science Tools"
   ]
  },
  {
   "cell_type": "markdown",
   "id": "136a421c-cb1e-4f93-922c-072d489ccde9",
   "metadata": {},
   "source": [
    "### Some of the popular languages that Data Scientists use are:\n",
    "1. Python\n",
    "2. C++\n",
    "3. Scala\n",
    "4. Julia\n",
    "5. Visual Basic etc."
   ]
  },
  {
   "cell_type": "markdown",
   "id": "434f9605-87f4-401b-b591-99e5567fc666",
   "metadata": {},
   "source": [
    "### Some of the commonly used libraries used by Data Scientists include:\n",
    "1. Pandas\n",
    "2. Keras\n",
    "3. Numpy\n",
    "4. Matplotlib\n",
    "5. Seaborn etc."
   ]
  },
  {
   "cell_type": "markdown",
   "id": "25eaa209-d1cc-4a32-b511-2628f3771cbd",
   "metadata": {},
   "source": [
    "|Data Science Tools|\n",
    "|------------------|\n",
    "|R Studio          |\n",
    "|Spyder            |\n",
    "|Anaconda          |"
   ]
  },
  {
   "cell_type": "markdown",
   "id": "a5ae5490-2f75-43ec-a8ad-df5fea8b8b6b",
   "metadata": {},
   "source": [
    "### Below are a few examples of evaluating arithmetic expressions in Python"
   ]
  },
  {
   "cell_type": "code",
   "execution_count": 10,
   "id": "9536f874-31c7-4c7c-bcb5-82226aebb0f6",
   "metadata": {},
   "outputs": [
    {
     "data": {
      "text/plain": [
       "17"
      ]
     },
     "execution_count": 10,
     "metadata": {},
     "output_type": "execute_result"
    }
   ],
   "source": [
    "#This a simple arithmetic expression to mutiply then add integers\n",
    "(3*4)+5"
   ]
  },
  {
   "cell_type": "code",
   "execution_count": 12,
   "id": "bad4d3cc-1ca2-47df-8362-fae85a3f7f47",
   "metadata": {},
   "outputs": [
    {
     "data": {
      "text/plain": [
       "3.3333333333333335"
      ]
     },
     "execution_count": 12,
     "metadata": {},
     "output_type": "execute_result"
    }
   ],
   "source": [
    "#This will convert 200 minutes to hours by diving by 60\n",
    "200/60"
   ]
  },
  {
   "cell_type": "markdown",
   "id": "134906e4-9656-4dd4-87cb-c8d7b87c07bd",
   "metadata": {},
   "source": [
    "## Author\n",
    "CHU CHEN"
   ]
  },
  {
   "cell_type": "markdown",
   "id": "0988532d-5574-4ffa-b897-d22f5190b007",
   "metadata": {},
   "source": []
  }
 ],
 "metadata": {
  "kernelspec": {
   "display_name": "Python 3 (ipykernel)",
   "language": "python",
   "name": "python3"
  },
  "language_info": {
   "codemirror_mode": {
    "name": "ipython",
    "version": 3
   },
   "file_extension": ".py",
   "mimetype": "text/x-python",
   "name": "python",
   "nbconvert_exporter": "python",
   "pygments_lexer": "ipython3",
   "version": "3.12.4"
  }
 },
 "nbformat": 4,
 "nbformat_minor": 5
}
